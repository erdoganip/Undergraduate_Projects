{
 "cells": [
  {
   "cell_type": "code",
   "execution_count": null,
   "metadata": {},
   "outputs": [],
   "source": [
    "import sys\n",
    "import numpy as np\n",
    "import pandas as pd\n",
    "from matplotlib.pyplot import imread\n",
    "import os\n",
    "import matplotlib.pyplot as plt\n",
    "%matplotlib inline\n",
    "\n",
    "import cv2\n",
    "import time\n",
    "import random\n",
    "\n",
    "import tensorflow as tf\n",
    "from keras.models import Sequential\n",
    "from keras.optimizers import Adam\n",
    "from keras.layers import Conv2D, ZeroPadding2D, Activation, Input, concatenate\n",
    "from keras.models import Model\n",
    "\n",
    "from keras.layers.pooling import MaxPooling2D\n",
    "from keras.layers.merge import Concatenate\n",
    "from keras.layers.core import Lambda, Flatten, Dense\n",
    "from tensorflow.keras.initializers import glorot_uniform\n",
    "\n",
    "from keras.engine.topology import Layer\n",
    "from tensorflow.keras.regularizers import l2\n",
    "from tensorflow.keras import backend as K\n",
    "\n",
    "from PIL import Image\n",
    "import numpy.random as rng"
   ]
  },
  {
   "cell_type": "code",
   "execution_count": null,
   "metadata": {},
   "outputs": [],
   "source": [
    "train_folder = 'Assets/champions/'\n",
    "val_folder = 'Assets/example/'\n",
    "save_path = 'data/'"
   ]
  },
  {
   "cell_type": "code",
   "execution_count": null,
   "metadata": {},
   "outputs": [],
   "source": [
    "def loadimgs(path):\n",
    "    '''\n",
    "    path => Path of train directory(champions)\n",
    "    '''\n",
    "    images= []\n",
    "    labels= []\n",
    "    \n",
    "    for filename in os.listdir(path):\n",
    "        image_path = os.path.join(path, filename)\n",
    "        label=filename\n",
    "        image = imread(image_path)\n",
    "        \n",
    "        #resize images\n",
    "        dim = (44,44)\n",
    "        image = cv2.resize(image, dim, interpolation = cv2.INTER_AREA)\n",
    "        \n",
    "        images.append(image)\n",
    "        label = label.replace('.png','')\n",
    "        labels.append(label)\n",
    "        \n",
    "    return images,labels"
   ]
  },
  {
   "cell_type": "code",
   "execution_count": null,
   "metadata": {},
   "outputs": [],
   "source": [
    "images, labels = loadimgs(train_folder)\n",
    "\n",
    "together={}\n",
    "for t in range(148):\n",
    "    together[labels[t]] = images[t]\n",
    "\n",
    "images = np.array(images)\n",
    "labels = np.array(labels)\n",
    "                  \n",
    "images2 = images.copy()\n",
    "images2 = images2[::-1]\n",
    "labels2 = labels.copy()\n",
    "labels2 = labels2[::-1]\n",
    "\n",
    "def get_batch(y):\n",
    "    \n",
    "    pairs = [np.zeros((148, 44, 44,3)) for i in range(2)]\n",
    "    targets = np.zeros((148,))\n",
    "\n",
    "    input1 = [images[y]]*148\n",
    "    input2 = images.copy()\n",
    "    targets[y]=1\n",
    "        \n",
    "    pairs[0] = input1\n",
    "    pairs[1] = input2\n",
    "    return pairs, targets"
   ]
  },
  {
   "cell_type": "code",
   "execution_count": null,
   "metadata": {},
   "outputs": [],
   "source": [
    "im = Image.open(r\"Assets/example/screenshot.png\") \n",
    "leftgroup=[]\n",
    "rightgroup=[]\n",
    "\n",
    "for i in range(5):\n",
    "    left = 920\n",
    "    right = 964\n",
    "    top = 860+i*44\n",
    "    bottom = 860+(i+1)*44\n",
    "    im1 = im.crop((left, top, right, bottom)) \n",
    "    # Shows the image in image viewer \n",
    "    #im1.show() \n",
    "    im1 = np.array(im1)\n",
    "    temp = [im1]*148\n",
    "    np.asarray(temp)\n",
    "    leftgroup.append(temp)\n",
    "leftgroup = np.asarray(leftgroup)    \n",
    "\n",
    "for i in range(5):\n",
    "    left2 = 970\n",
    "    right2 = 1014\n",
    "    top2 = 860+i*44\n",
    "    bottom2 = 860+(i+1)*44\n",
    "    im2 = im.crop((left2, top2, right2, bottom2)) \n",
    "    # Shows the image in image viewer \n",
    "    #im2.show() \n",
    "    im2 = np.array(im2)\n",
    "    temp2 = [im2]*148\n",
    "    np.asarray(temp2)\n",
    "    rightgroup.append(temp2)\n",
    "rightgroup = np.asarray(rightgroup)    "
   ]
  },
  {
   "cell_type": "code",
   "execution_count": null,
   "metadata": {},
   "outputs": [],
   "source": [
    "def initialize_weights(shape, name=None):\n",
    "    return np.random.normal(loc = 0.0, scale = 1e-2, size = shape)"
   ]
  },
  {
   "cell_type": "code",
   "execution_count": null,
   "metadata": {},
   "outputs": [],
   "source": [
    "def initialize_bias(shape, name=None):\n",
    "    return np.random.normal(loc = 0.5, scale = 1e-2, size = shape)"
   ]
  },
  {
   "cell_type": "code",
   "execution_count": null,
   "metadata": {},
   "outputs": [],
   "source": [
    "def get_siamese_model(input_shape):\n",
    "    \n",
    "    # Define the tensors for the two input images\n",
    "    left_input = Input(input_shape)\n",
    "    right_input = Input(input_shape)\n",
    "    \n",
    "    # Convolutional Neural Network\n",
    "    model = Sequential()\n",
    "    model.add(Conv2D(64, (10,10), activation='relu', input_shape=input_shape,\n",
    "                   kernel_initializer=initialize_weights, kernel_regularizer=l2(2e-4)))\n",
    "    model.add(MaxPooling2D())\n",
    "    \n",
    "    model.add(Conv2D(64, (4,4), activation='relu', #128\n",
    "                     kernel_initializer=initialize_weights,\n",
    "                     bias_initializer=initialize_bias, kernel_regularizer=l2(2e-4)))\n",
    "    model.add(MaxPooling2D())\n",
    "#    model.add(Conv2D(128, (2,2), activation='relu', kernel_initializer=initialize_weights,\n",
    "#                     bias_initializer=initialize_bias, kernel_regularizer=l2(2e-4)))\n",
    "#    model.add(MaxPooling2D())\n",
    "    \n",
    "    model.add(Conv2D(128, (4,4), activation='relu', kernel_initializer=initialize_weights, #256\n",
    "                     bias_initializer=initialize_bias, kernel_regularizer=l2(2e-4)))\n",
    "    model.add(Flatten())\n",
    "    model.add(Dense(4096, activation='sigmoid',\n",
    "                   kernel_regularizer=l2(1e-3),\n",
    "                   kernel_initializer=initialize_weights,bias_initializer=initialize_bias))\n",
    "\n",
    "    \n",
    "    \n",
    "    # Generate the feature vectors for the two images\n",
    "    encoded_l = model(left_input)\n",
    "    encoded_r = model(right_input)\n",
    "    \n",
    "    # Add a customized layer to compute the absolute difference between the feature vectors\n",
    "    L1_layer = Lambda(lambda tensors:K.abs(tensors[0] - tensors[1]))\n",
    "    L1_distance = L1_layer([encoded_l, encoded_r])\n",
    "    \n",
    "    # Add a dense layer with a sigmoid unit to generate the similarity score\n",
    "    prediction = Dense(1,activation='sigmoid',bias_initializer=initialize_bias)(L1_distance)\n",
    "    \n",
    "    # Connect the inputs with the outputs\n",
    "    siamese_net = Model(inputs=[left_input,right_input],outputs=prediction)\n",
    "    \n",
    "    # return the model\n",
    "    return siamese_net"
   ]
  },
  {
   "cell_type": "code",
   "execution_count": null,
   "metadata": {},
   "outputs": [],
   "source": [
    "model = get_siamese_model((44,44,3))\n",
    "model.summary()"
   ]
  },
  {
   "cell_type": "code",
   "execution_count": null,
   "metadata": {},
   "outputs": [],
   "source": [
    "optimizer = Adam(lr = 0.00006)\n",
    "model.compile(loss=\"binary_crossentropy\",optimizer=optimizer)"
   ]
  },
  {
   "cell_type": "markdown",
   "metadata": {},
   "source": [
    "### Loading the train tensors"
   ]
  },
  {
   "cell_type": "code",
   "execution_count": null,
   "metadata": {},
   "outputs": [],
   "source": [
    "def make_oneshot_task(N,c,m):\n",
    "    if (c=='right'):\n",
    "        test_image = rightgroup[m]\n",
    "        print('\\n Original Image: ')\n",
    "        plt.imshow(rightgroup[m][0])\n",
    "        plt.show()\n",
    "        \n",
    "    else:\n",
    "        test_image = leftgroup[m]\n",
    "        print('\\n Original Image: ')\n",
    "        plt.imshow(leftgroup[m][0])\n",
    "        plt.show()\n",
    "        \n",
    "    support_set = images\n",
    "    targets = np.zeros((N,))\n",
    "    pairs = [test_image,support_set]\n",
    "\n",
    "    return pairs, targets"
   ]
  },
  {
   "cell_type": "code",
   "execution_count": null,
   "metadata": {},
   "outputs": [],
   "source": [
    "def test_oneshot(model,N,c,m):\n",
    "    inputs, targets = make_oneshot_task(N,c,m)\n",
    "    probs = model.predict(inputs)\n",
    "    return probs"
   ]
  },
  {
   "cell_type": "code",
   "execution_count": null,
   "metadata": {},
   "outputs": [],
   "source": [
    "n_iter = 200 # Number of iterations"
   ]
  },
  {
   "cell_type": "code",
   "execution_count": null,
   "metadata": {},
   "outputs": [],
   "source": [
    "model_path = './weights/'"
   ]
  },
  {
   "cell_type": "code",
   "execution_count": null,
   "metadata": {},
   "outputs": [],
   "source": [
    "print(\"Starting training process!\")\n",
    "print(\"-------------------------------------\")\n",
    "t_start = time.time()\n",
    "for i in range(1, n_iter+1):\n",
    "    for t in range(148):\n",
    "        (inputs,targets) = get_batch(t)\n",
    "        loss = model.train_on_batch(inputs, targets)\n",
    "        print(\"Train Loss: {0}\".format(loss)) \n",
    "    model.save_weights(os.path.join(model_path, 'weights.{}.h5'.format(i)))"
   ]
  },
  {
   "cell_type": "code",
   "execution_count": null,
   "metadata": {},
   "outputs": [],
   "source": [
    "model.load_weights(os.path.join('./weights/', 'weights.10.h5'))"
   ]
  },
  {
   "cell_type": "code",
   "execution_count": null,
   "metadata": {},
   "outputs": [],
   "source": [
    "for k in range(5):\n",
    "    print(\"\\n{}. Champion of the Right Group\\n\".format(k+1))\n",
    "    probs= test_oneshot(model,148,'right',k)\n",
    "    total={}\n",
    "    for t in range(148):\n",
    "        total[labels[t]] = probs[t]\n",
    "    final = sorted(total.items(), key=lambda x: x[1], reverse=True)\n",
    "    key=str(final[0][0])\n",
    "    print('\\n Predicted Image: ')\n",
    "    plt.imshow(together[key])\n",
    "    plt.show()\n",
    "    \n",
    "for k in range(5):\n",
    "    print(\"\\n{}. Champion of the Left Group\\n\".format(k+1))\n",
    "    probs= test_oneshot(model,148,'left',k)\n",
    "    total={}\n",
    "    for t in range(148):\n",
    "        total[labels[t]] = probs[t]\n",
    "    final = sorted(total.items(), key=lambda x: x[1], reverse=True)\n",
    "    print(final[0])\n",
    "    key=str(final[0][0])\n",
    "    print('\\n Predicted Image: ')\n",
    "    plt.imshow(together[key])\n",
    "    plt.show()"
   ]
  },
  {
   "cell_type": "code",
   "execution_count": null,
   "metadata": {},
   "outputs": [],
   "source": []
  }
 ],
 "metadata": {
  "kernelspec": {
   "display_name": "Python 3",
   "language": "python",
   "name": "python3"
  },
  "language_info": {
   "codemirror_mode": {
    "name": "ipython",
    "version": 3
   },
   "file_extension": ".py",
   "mimetype": "text/x-python",
   "name": "python",
   "nbconvert_exporter": "python",
   "pygments_lexer": "ipython3",
   "version": "3.7.4"
  }
 },
 "nbformat": 4,
 "nbformat_minor": 2
}
