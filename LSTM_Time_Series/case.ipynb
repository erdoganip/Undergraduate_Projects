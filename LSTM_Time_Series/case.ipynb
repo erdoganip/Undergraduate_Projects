{
 "cells": [
  {
   "cell_type": "code",
   "execution_count": null,
   "metadata": {},
   "outputs": [],
   "source": [
    "import pandas as pd\n",
    "import numpy as np\n",
    "from pandas.io.json import json_normalize\n",
    "import matplotlib.pyplot as plt\n",
    "from tensorflow import keras\n",
    "from keras import Sequential\n",
    "from keras.layers import Dense, LSTM\n",
    "\n",
    "df = pd.read_json(\"players.json\")\n",
    "df.head()"
   ]
  },
  {
   "cell_type": "code",
   "execution_count": null,
   "metadata": {},
   "outputs": [],
   "source": [
    "df2 = json_normalize(df['stats'])\n",
    "df2.head()"
   ]
  },
  {
   "cell_type": "code",
   "execution_count": null,
   "metadata": {},
   "outputs": [],
   "source": [
    "list(df2.columns)"
   ]
  },
  {
   "cell_type": "code",
   "execution_count": null,
   "metadata": {},
   "outputs": [],
   "source": [
    "df['cost'].describe() #Descriptive Statistics"
   ]
  },
  {
   "cell_type": "code",
   "execution_count": null,
   "metadata": {},
   "outputs": [],
   "source": [
    "df['cost'].plot.hist()"
   ]
  },
  {
   "cell_type": "code",
   "execution_count": null,
   "metadata": {},
   "outputs": [],
   "source": [
    "df2['avg_points'].describe() #Descriptive Statistics"
   ]
  },
  {
   "cell_type": "code",
   "execution_count": null,
   "metadata": {},
   "outputs": [],
   "source": [
    "df2['avg_points'].plot.hist()"
   ]
  },
  {
   "cell_type": "code",
   "execution_count": null,
   "metadata": {},
   "outputs": [],
   "source": [
    "df2['selections'].describe() #Descriptive Statistics"
   ]
  },
  {
   "cell_type": "code",
   "execution_count": null,
   "metadata": {},
   "outputs": [],
   "source": [
    "df2['selections'].plot.hist()"
   ]
  },
  {
   "cell_type": "code",
   "execution_count": null,
   "metadata": {},
   "outputs": [],
   "source": [
    "df3 = pd.read_csv(\"players_metadata.csv\", sep='|')\n",
    "df3.head()"
   ]
  },
  {
   "cell_type": "code",
   "execution_count": null,
   "metadata": {},
   "outputs": [],
   "source": [
    "df['Player_Name']= df['last_name'].str.upper() + ','+' '+ df['first_name'].str.upper()\n",
    "df.head()"
   ]
  },
  {
   "cell_type": "code",
   "execution_count": null,
   "metadata": {},
   "outputs": [],
   "source": [
    "result = pd.merge(df,df3, on='Player_Name')\n",
    "result = result.drop(\"Player_Name\", axis=1)\n",
    "result.head()"
   ]
  },
  {
   "cell_type": "code",
   "execution_count": null,
   "metadata": {},
   "outputs": [],
   "source": [
    "result['nationality'].value_counts()[:3].sort_values(ascending=False) #Top 3 nationatilies from merged data frame"
   ]
  },
  {
   "cell_type": "code",
   "execution_count": null,
   "metadata": {},
   "outputs": [],
   "source": [
    "usa=result.loc[result['nationality']=='United States of America']\n",
    "usa_guard=usa.loc[usa['position']=='Guard']\n",
    "usa_center=usa.loc[usa['position']=='Center']\n",
    "usa_forward=usa.loc[usa['position']=='Forward']\n",
    "usa_guard=json_normalize(usa_guard['stats'])\n",
    "usa_center=json_normalize(usa_center['stats'])\n",
    "usa_forward=json_normalize(usa_forward['stats'])\n",
    "\n",
    "serbia=result.loc[result['nationality']=='Serbia']\n",
    "serbia_guard=serbia.loc[serbia['position']=='Guard']\n",
    "serbia_center=serbia.loc[serbia['position']=='Center']\n",
    "serbia_forward=serbia.loc[serbia['position']=='Forward']\n",
    "serbia_guard=json_normalize(serbia_guard['stats'])\n",
    "serbia_center=json_normalize(serbia_center['stats'])\n",
    "serbia_forward=json_normalize(serbia_forward['stats'])\n",
    "\n",
    "spain=result.loc[result['nationality']=='Spain']\n",
    "spain_guard=spain.loc[spain['position']=='Guard']\n",
    "spain_center=spain.loc[spain['position']=='Center']\n",
    "spain_forward=spain.loc[spain['position']=='Forward']\n",
    "spain_guard=json_normalize(spain_guard['stats'])\n",
    "spain_center=json_normalize(spain_center['stats'])\n",
    "spain_forward=json_normalize(spain_forward['stats'])"
   ]
  },
  {
   "cell_type": "code",
   "execution_count": null,
   "metadata": {},
   "outputs": [],
   "source": [
    "#3 boxplots for each of the position, depending on nationalities\n",
    "guard_plot = [usa_guard['avg_points'],serbia_guard['avg_points'],spain_guard['avg_points']]\n",
    "center_plot = [usa_center['avg_points'],serbia_center['avg_points'],spain_center['avg_points']]\n",
    "forward_plot = [usa_forward['avg_points'],serbia_forward['avg_points'],spain_forward['avg_points']]"
   ]
  },
  {
   "cell_type": "code",
   "execution_count": null,
   "metadata": {},
   "outputs": [],
   "source": [
    "fig = plt.figure(1, figsize=(9, 6))\n",
    "fig.suptitle('Guard Position Average Points', fontsize=14, fontweight='bold')\n",
    "ax = fig.add_subplot(111)\n",
    "#fill color\n",
    "bp = ax.boxplot(guard_plot, patch_artist=True)\n",
    "ax.set_xticklabels(['USA', 'Serbia', 'Spain'])\n",
    "ax.get_xaxis().tick_bottom()\n",
    "ax.get_yaxis().tick_left()\n",
    "#outline color, fill color and linewidth of the boxes\n",
    "for box in bp['boxes']:\n",
    "    box.set( color='#7570b3', linewidth=2)\n",
    "    box.set( facecolor = '#1b9e77' )\n",
    "#color and linewidth of the whiskers\n",
    "for whisker in bp['whiskers']:\n",
    "    whisker.set(color='#7570b3', linewidth=2)\n",
    "#color and linewidth of the caps\n",
    "for cap in bp['caps']:\n",
    "    cap.set(color='#7570b3', linewidth=2)\n",
    "#color and linewidth of the medians\n",
    "for median in bp['medians']:\n",
    "    median.set(color='#b2df8a', linewidth=2)\n",
    "#style of fliers and their fill\n",
    "for flier in bp['fliers']:\n",
    "    flier.set(marker='o', color='#e7298a', alpha=0.5)\n",
    "\n",
    "fig.savefig('guard.png', bbox_inches='tight')\n"
   ]
  },
  {
   "cell_type": "code",
   "execution_count": null,
   "metadata": {},
   "outputs": [],
   "source": [
    "fig = plt.figure(1, figsize=(9, 6))\n",
    "fig.suptitle('Center Position Average Points', fontsize=14, fontweight='bold')\n",
    "ax = fig.add_subplot(111)\n",
    "#fill color\n",
    "bp = ax.boxplot(center_plot, patch_artist=True)\n",
    "ax.set_xticklabels(['USA', 'Serbia', 'Spain'])\n",
    "ax.get_xaxis().tick_bottom()\n",
    "ax.get_yaxis().tick_left()\n",
    "#outline color, fill color and linewidth of the boxes\n",
    "for box in bp['boxes']:\n",
    "    box.set( color='#7570b3', linewidth=2)\n",
    "    box.set( facecolor = '#1b9e77' )\n",
    "#color and linewidth of the whiskers\n",
    "for whisker in bp['whiskers']:\n",
    "    whisker.set(color='#7570b3', linewidth=2)\n",
    "#color and linewidth of the caps\n",
    "for cap in bp['caps']:\n",
    "    cap.set(color='#7570b3', linewidth=2)\n",
    "#color and linewidth of the medians\n",
    "for median in bp['medians']:\n",
    "    median.set(color='#b2df8a', linewidth=2)\n",
    "#style of fliers and their fill\n",
    "for flier in bp['fliers']:\n",
    "    flier.set(marker='o', color='#e7298a', alpha=0.5)\n",
    "\n",
    "fig.savefig('center.png', bbox_inches='tight')\n"
   ]
  },
  {
   "cell_type": "code",
   "execution_count": null,
   "metadata": {},
   "outputs": [],
   "source": [
    "fig = plt.figure(1, figsize=(9, 6))\n",
    "fig.suptitle('Forward Position Average Points', fontsize=14, fontweight='bold')\n",
    "ax = fig.add_subplot(111)\n",
    "#fill color\n",
    "bp = ax.boxplot(forward_plot, patch_artist=True)\n",
    "ax.set_xticklabels(['USA', 'Serbia', 'Spain'])\n",
    "ax.get_xaxis().tick_bottom()\n",
    "ax.get_yaxis().tick_left()\n",
    "#outline color, fill color and linewidth of the boxes\n",
    "for box in bp['boxes']:\n",
    "    box.set( color='#7570b3', linewidth=2)\n",
    "    box.set( facecolor = '#1b9e77' )\n",
    "#color and linewidth of the whiskers\n",
    "for whisker in bp['whiskers']:\n",
    "    whisker.set(color='#7570b3', linewidth=2)\n",
    "#color and linewidth of the caps\n",
    "for cap in bp['caps']:\n",
    "    cap.set(color='#7570b3', linewidth=2)\n",
    "#color and linewidth of the medians\n",
    "for median in bp['medians']:\n",
    "    median.set(color='#b2df8a', linewidth=2)\n",
    "#style of fliers and their fill\n",
    "for flier in bp['fliers']:\n",
    "    flier.set(marker='o', color='#e7298a', alpha=0.5)\n",
    "\n",
    "fig.savefig('forward.png', bbox_inches='tight')\n"
   ]
  },
  {
   "cell_type": "code",
   "execution_count": null,
   "metadata": {},
   "outputs": [],
   "source": [
    "#Here, I extracted the Price Change, Percentage Change, Score and Price informations for each players' each round;\n",
    "#and merged them in a nested dictionary.\n",
    "double_dict = { }\n",
    "pricing=[]\n",
    "\n",
    "for i in range (274):\n",
    "    double_dict[str(i)] = {}\n",
    "    scores = df['stats'][i]['scores']\n",
    "    prices = df['stats'][i]['prices']\n",
    "    for j in range (33):\n",
    "        double_dict[str(i)][str(j)] = {}\n",
    "        price= prices.get(str(j+1),1)##It's not the best way to handle missing values but I don't have enough time to find a sufficient solution\n",
    "        next_price= prices.get(str(j+2),1)\n",
    "        price_change= next_price - price\n",
    "        score = scores.get(str(j+1),1)\n",
    "        double_dict[str(i)][str(j)]['Price'] = price\n",
    "        double_dict[str(i)][str(j)]['Price_Change'] = price_change\n",
    "        double_dict[str(i)][str(j)]['Percentage'] = price_change/price\n",
    "        double_dict[str(i)][str(j)]['Score'] = score"
   ]
  },
  {
   "cell_type": "code",
   "execution_count": null,
   "metadata": {},
   "outputs": [],
   "source": [
    "#Here I implemented a LSTM to interpret the data in temporal dimension.\n",
    "\n",
    "model = Sequential()\n",
    "model.add(LSTM(50, input_shape=(25,1)))\n",
    "model.add(Dense(1))\n",
    "model.compile(loss='mae', optimizer='adam')\n",
    "\n",
    "for i in  range(274):\n",
    "    scores = df['stats'][i]['scores']\n",
    "    prices = df['stats'][i]['prices']\n",
    "    pricing=[]\n",
    "    scoring=[]\n",
    "    for j in range(33):\n",
    "        price= prices.get(str(j+1),1)\n",
    "        pricing.append(price)\n",
    "        score = scores.get(str(j+1),1)\n",
    "        scoring.append(score)\n",
    "    train_p=np.asarray(pricing[0:25])\n",
    "    test_p=np.asarray(pricing[25:33])\n",
    "    train_p = np.expand_dims(train_p, axis=0)\n",
    "    train_p = train_p.reshape((train_p.shape[1], 1, train_p.shape[0]))\n",
    "    test_p = np.expand_dims(test_p, axis=0)\n",
    "    test_p = test_p.reshape((test_p.shape[1], 1, test_p.shape[0]))\n",
    "    train_s=np.asarray(scoring[0:25])\n",
    "    train_s = np.expand_dims(train_s, axis=0)\n",
    "    train_s = train_s.reshape((train_s.shape[1], 1, train_s.shape[0]))\n",
    "    test_s=np.asarray(scoring[25:33])\n",
    "    test_s = np.expand_dims(test_s, axis=0)\n",
    "    test_s = test_s.reshape((test_s.shape[1], 1, test_s.shape[0]))\n",
    "    \n",
    "    history = model.fit(train_p, train_s, epochs=50, batch_size=4, validation_data=(test_p, test_s), shuffle=False)\n",
    "\n",
    "    \n",
    "pyplot.plot(history.history['loss'], label='train')\n",
    "pyplot.plot(history.history['val_loss'], label='test')\n",
    "pyplot.legend()\n",
    "pyplot.show()"
   ]
  }
 ],
 "metadata": {
  "kernelspec": {
   "display_name": "Python 3",
   "language": "python",
   "name": "python3"
  },
  "language_info": {
   "codemirror_mode": {
    "name": "ipython",
    "version": 3
   },
   "file_extension": ".py",
   "mimetype": "text/x-python",
   "name": "python",
   "nbconvert_exporter": "python",
   "pygments_lexer": "ipython3",
   "version": "3.5.2"
  }
 },
 "nbformat": 4,
 "nbformat_minor": 2
}
